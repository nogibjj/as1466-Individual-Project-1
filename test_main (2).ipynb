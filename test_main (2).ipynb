{
 "cells": [
  {
   "cell_type": "code",
   "execution_count": 2,
   "metadata": {
    "id": "AeudfCkJRKog"
   },
   "outputs": [],
   "source": [
    "from ipynb.fs.full.main import run_device_analytics\n",
    "import pandas as pd\n",
    "import warnings\n",
    "df = pd.read_excel('Analytics 1 Master View Sales Performance 20230501-20230630.xlsx',sheet_name='Dataset1')\n",
    "df = df.iloc[:-1,:]\n",
    "\n",
    "def test_main():\n",
    "    h = run_device_analytics(df)\n",
    "    assert h == -70.81432840479418\n",
    "\n",
    "\n",
    "test_main()\n",
    "\n",
    "warnings.filterwarnings('ignore')"
   ]
  }
 ],
 "metadata": {
  "colab": {
   "provenance": []
  },
  "kernelspec": {
   "display_name": "Python 3",
   "name": "python3"
  },
  "language_info": {
   "codemirror_mode": {
    "name": "ipython",
    "version": 3
   },
   "file_extension": ".py",
   "mimetype": "text/x-python",
   "name": "python",
   "nbconvert_exporter": "python",
   "pygments_lexer": "ipython3",
   "version": "3.8.10"
  }
 },
 "nbformat": 4,
 "nbformat_minor": 0
}
