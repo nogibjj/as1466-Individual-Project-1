{
 "nbformat": 4,
 "nbformat_minor": 0,
 "metadata": {
  "colab": {
   "provenance": []
  },
  "kernelspec": {
   "name": "python3",
   "display_name": "Python 3"
  },
  "language_info": {
   "name": "python"
  }
 },
 "cells": [
  {
   "cell_type": "code",
   "source": [
    "from ipynb.fs.full.main import sum\n",
    "\n",
    "\n",
    "def test_main():\n",
    "    assert sum(1, 2) == 3\n",
    "\n",
    "\n",
    "test_main()"
   ],
   "metadata": {
    "id": "AeudfCkJRKog"
   },
   "execution_count": null,
   "outputs": []
  }
 ]
}
