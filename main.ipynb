{
 "cells": [
  {
   "cell_type": "code",
   "execution_count": null,
   "metadata": {},
   "outputs": [],
   "source": [
    "## Calculate mean\n",
    "def stats_mean(dataset):\n",
    "    return dataset[\"No of student per staff\"].mean()"
   ]
  },
  {
   "cell_type": "code",
   "execution_count": 1,
   "metadata": {},
   "outputs": [],
   "source": [
    "## Calculate median\n",
    "\n",
    "\n",
    "def stats_median(dataset):\n",
    "    return dataset[\"No of student per staff\"].median()"
   ]
  },
  {
   "cell_type": "code",
   "execution_count": 2,
   "metadata": {},
   "outputs": [],
   "source": [
    "## Calculate Mode\n",
    "\n",
    "\n",
    "def stats_mode(dataset):\n",
    "    return dataset[\"No of student per staff\"].mode()"
   ]
  },
  {
   "cell_type": "code",
   "execution_count": 3,
   "metadata": {},
   "outputs": [],
   "source": [
    "## Calculate standard deviation\n",
    "def stats_std(dataset):\n",
    "    return dataset[\"No of student per staff\"].std()"
   ]
  },
  {
   "cell_type": "code",
   "execution_count": 4,
   "metadata": {},
   "outputs": [],
   "source": [
    "## Create report of output\n",
    "\n",
    "\n",
    "def sum(a,b):\n",
    "    result = {\n",
    "        \"mean\": (stats_mean(data)),\n",
    "        \"median\": (stats_median(data)),\n",
    "        \"std_dev\": (stats_std(data)),\n",
    "        \"mode\": ((stats_mode(data)[0])),\n",
    "    }\n",
    "\n",
    "    return a+b"
   ]
  },
  {
   "cell_type": "code",
   "execution_count": null,
   "metadata": {},
   "outputs": [],
   "source": [
    "## Function to write report in a markdown file\n",
    "\n",
    "\n",
    "def create_summary(data, file_path=\"../Generated summary report.md\"):\n",
    "    with open(file_path, \"w\", encoding=\"utf-8\") as f:\n",
    "        for key, value in report(data).items():\n",
    "            f.write(\"%s:%s\\n\" % (key, value))\n",
    "            f.write(\"\\n\")"
   ]
  }
 ],
 "metadata": {
  "kernelspec": {
   "display_name": "Python 3",
   "language": "python",
   "name": "python3"
  },
  "language_info": {
   "codemirror_mode": {
    "name": "ipython",
    "version": 3
   },
   "file_extension": ".py",
   "mimetype": "text/x-python",
   "name": "python",
   "nbconvert_exporter": "python",
   "pygments_lexer": "ipython3",
   "version": "3.10.12"
  },
  "orig_nbformat": 4
 },
 "nbformat": 4,
 "nbformat_minor": 2
}
