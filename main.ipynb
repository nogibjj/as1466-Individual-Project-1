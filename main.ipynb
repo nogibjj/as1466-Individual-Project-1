
  "cells": [
    {
      "cell_type": "code",
      "execution_count": 1,
      "metadata": {
        "id": "8pOKZ9MtH-2W"
      },
      "outputs": [],
      "source": [
        "def sum(a,b):\n",
        "  return a+b\n"
      ]
    }
  ]
}
